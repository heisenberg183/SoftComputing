{
  "nbformat": 4,
  "nbformat_minor": 0,
  "metadata": {
    "colab": {
      "provenance": [],
      "authorship_tag": "ABX9TyO3nw6FVjdog5gOZRwSgamf",
      "include_colab_link": true
    },
    "kernelspec": {
      "name": "python3",
      "display_name": "Python 3"
    },
    "language_info": {
      "name": "python"
    }
  },
  "cells": [
    {
      "cell_type": "markdown",
      "metadata": {
        "id": "view-in-github",
        "colab_type": "text"
      },
      "source": [
        "<a href=\"https://colab.research.google.com/github/heisenberg183/SoftComputing/blob/main/SCExp7.ipynb\" target=\"_parent\"><img src=\"https://colab.research.google.com/assets/colab-badge.svg\" alt=\"Open In Colab\"/></a>"
      ]
    },
    {
      "cell_type": "code",
      "execution_count": 1,
      "metadata": {
        "colab": {
          "base_uri": "https://localhost:8080/"
        },
        "id": "g1pmyeux486I",
        "outputId": "5f8cf646-a1b1-498f-eaac-e4f28083e506"
      },
      "outputs": [
        {
          "output_type": "stream",
          "name": "stdout",
          "text": [
            "Fuzzy Relation 1: {('A', 'X'): 0.7, ('B', 'Y'): 0.5, ('C', 'Z'): 0.9}\n",
            "Fuzzy Relation 2: {('X', 'P'): 0.6, ('Y', 'Q'): 0.8, ('Z', 'R'): 0.4}\n",
            "Max-Min Composition Result: {('A', 'P'): 0.6, ('B', 'Q'): 0.5, ('C', 'R'): 0.4}\n"
          ]
        }
      ],
      "source": [
        "def max_min_composition(rel1, rel2):\n",
        "    # Max-min composition of two fuzzy relations\n",
        "    composition_result = {}\n",
        "    for (a, b) in rel1.keys():\n",
        "        for (c, d) in rel2.keys():\n",
        "            if b == c:\n",
        "                composition_result[(a, d)] = min(rel1[(a, b)], rel2[(c, d)])\n",
        "    return composition_result\n",
        "\n",
        "# Example fuzzy relations\n",
        "rel1 = {('A', 'X'): 0.7, ('B', 'Y'): 0.5, ('C', 'Z'): 0.9}\n",
        "rel2 = {('X', 'P'): 0.6, ('Y', 'Q'): 0.8, ('Z', 'R'): 0.4}\n",
        "\n",
        "# Perform max-min composition\n",
        "composition_result = max_min_composition(rel1, rel2)\n",
        "\n",
        "print(\"Fuzzy Relation 1:\", rel1)\n",
        "print(\"Fuzzy Relation 2:\", rel2)\n",
        "print(\"Max-Min Composition Result:\", composition_result)\n"
      ]
    }
  ]
}