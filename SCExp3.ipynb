{
  "nbformat": 4,
  "nbformat_minor": 0,
  "metadata": {
    "colab": {
      "provenance": [],
      "authorship_tag": "ABX9TyMlliBL8cuc5Q+I5Eah2nM1",
      "include_colab_link": true
    },
    "kernelspec": {
      "name": "python3",
      "display_name": "Python 3"
    },
    "language_info": {
      "name": "python"
    }
  },
  "cells": [
    {
      "cell_type": "markdown",
      "metadata": {
        "id": "view-in-github",
        "colab_type": "text"
      },
      "source": [
        "<a href=\"https://colab.research.google.com/github/heisenberg183/SoftComputing/blob/main/SCExp3.ipynb\" target=\"_parent\"><img src=\"https://colab.research.google.com/assets/colab-badge.svg\" alt=\"Open In Colab\"/></a>"
      ]
    },
    {
      "cell_type": "code",
      "execution_count": 2,
      "metadata": {
        "colab": {
          "base_uri": "https://localhost:8080/"
        },
        "id": "_YmPKDI3r1KY",
        "outputId": "20caa106-b0f8-4b2c-b9d8-ac436c492512"
      },
      "outputs": [
        {
          "output_type": "stream",
          "name": "stdout",
          "text": [
            "Input\t\tTarget\t\tPredicted Output\n",
            "[0 0]\t\t[0]\t\t[[0.05428401]]\n",
            "[0 1]\t\t[1]\t\t[[0.9517699]]\n",
            "[1 0]\t\t[1]\t\t[[0.95471902]]\n",
            "[1 1]\t\t[0]\t\t[[0.04808674]]\n"
          ]
        }
      ],
      "source": [
        "import numpy as np\n",
        "\n",
        "class NeuralNetwork:\n",
        "    def __init__(self, input_size, hidden_size, output_size, learning_rate=0.1):\n",
        "        self.input_size = input_size\n",
        "        self.hidden_size = hidden_size\n",
        "        self.output_size = output_size\n",
        "        self.learning_rate = learning_rate\n",
        "\n",
        "        # Initialize weights and biases for the hidden and output layers\n",
        "        self.weights_hidden = np.random.randn(self.input_size, self.hidden_size)\n",
        "        self.bias_hidden = np.zeros((1, self.hidden_size))\n",
        "        self.weights_output = np.random.randn(self.hidden_size, self.output_size)\n",
        "        self.bias_output = np.zeros((1, self.output_size))\n",
        "\n",
        "    def sigmoid(self, x):\n",
        "        return 1 / (1 + np.exp(-x))\n",
        "\n",
        "    def sigmoid_derivative(self, x):\n",
        "        return x * (1 - x)\n",
        "\n",
        "    def forward(self, inputs):\n",
        "        # Forward propagation through the network\n",
        "        self.hidden_layer_input = np.dot(inputs, self.weights_hidden) + self.bias_hidden\n",
        "        self.hidden_layer_output = self.sigmoid(self.hidden_layer_input)\n",
        "\n",
        "        self.output_layer_input = np.dot(self.hidden_layer_output, self.weights_output) + self.bias_output\n",
        "        self.output_layer_output = self.sigmoid(self.output_layer_input)\n",
        "        return self.output_layer_output\n",
        "\n",
        "    def backward(self, inputs, targets, outputs):\n",
        "        # Backpropagation algorithm\n",
        "        error_output = targets - outputs\n",
        "        delta_output = error_output * self.sigmoid_derivative(outputs)\n",
        "\n",
        "        error_hidden = delta_output.dot(self.weights_output.T)\n",
        "        delta_hidden = error_hidden * self.sigmoid_derivative(self.hidden_layer_output)\n",
        "\n",
        "        # Update weights and biases using gradients\n",
        "        self.weights_output += self.hidden_layer_output.T.dot(delta_output) * self.learning_rate\n",
        "        self.bias_output += np.sum(delta_output, axis=0, keepdims=True) * self.learning_rate\n",
        "        self.weights_hidden += inputs.T.dot(delta_hidden) * self.learning_rate\n",
        "        self.bias_hidden += np.sum(delta_hidden, axis=0, keepdims=True) * self.learning_rate\n",
        "\n",
        "    def train(self, inputs, targets, epochs):\n",
        "        for _ in range(epochs):\n",
        "            outputs = self.forward(inputs)\n",
        "            self.backward(inputs, targets, outputs)\n",
        "\n",
        "# Example training data for XOR gate\n",
        "inputs = np.array([[0, 0], [0, 1], [1, 0], [1, 1]])\n",
        "targets = np.array([[0], [1], [1], [0]])\n",
        "\n",
        "# Create a neural network with 2 input neurons, 2 hidden neurons, and 1 output neuron\n",
        "nn = NeuralNetwork(input_size=2, hidden_size=2, output_size=1)\n",
        "\n",
        "# Train the neural network\n",
        "nn.train(inputs, targets, epochs=10000)\n",
        "\n",
        "# Test the trained neural network\n",
        "print(\"Input\\t\\tTarget\\t\\tPredicted Output\")\n",
        "for i in range(len(inputs)):\n",
        "    prediction = nn.forward(inputs[i])\n",
        "    print(f\"{inputs[i]}\\t\\t{targets[i]}\\t\\t{prediction}\")\n"
      ]
    }
  ]
}