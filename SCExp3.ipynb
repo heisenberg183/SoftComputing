{
  "nbformat": 4,
  "nbformat_minor": 0,
  "metadata": {
    "colab": {
      "provenance": [],
      "authorship_tag": "ABX9TyPSbqf3ZuYaCXzP6P9UXco7",
      "include_colab_link": true
    },
    "kernelspec": {
      "name": "python3",
      "display_name": "Python 3"
    },
    "language_info": {
      "name": "python"
    }
  },
  "cells": [
    {
      "cell_type": "markdown",
      "metadata": {
        "id": "view-in-github",
        "colab_type": "text"
      },
      "source": [
        "<a href=\"https://colab.research.google.com/github/heisenberg183/SoftComputing/blob/main/SCExp3.ipynb\" target=\"_parent\"><img src=\"https://colab.research.google.com/assets/colab-badge.svg\" alt=\"Open In Colab\"/></a>"
      ]
    },
    {
      "cell_type": "code",
      "execution_count": 1,
      "metadata": {
        "id": "wPD_EksyrCCY"
      },
      "outputs": [],
      "source": [
        "def fuzzy_core_support(set1):\n",
        "    core_set = {key: value for key, value in set1.items() if value == 1.0}\n",
        "    support_set = {key: value for key, value in set1.items() if 0 < value < 1}\n",
        "    crossover_points = {key: value for key, value in set1.items() if value == 0 or value == 1}\n",
        "\n",
        "    return core_set, support_set, crossover_points"
      ]
    },
    {
      "cell_type": "code",
      "source": [
        "# Example fuzzy set\n",
        "fuzzy_set = {'A': 1.0, 'B': 0.7, 'C': 0.5, 'D': 0.0, 'E': 1.0}"
      ],
      "metadata": {
        "id": "OZ8fLLB4rrKX"
      },
      "execution_count": 2,
      "outputs": []
    },
    {
      "cell_type": "code",
      "source": [
        "# Compute Core, Support, and Crossover points\n",
        "core, support, crossover = fuzzy_core_support(fuzzy_set)"
      ],
      "metadata": {
        "id": "WRGzeEuQrrUe"
      },
      "execution_count": 3,
      "outputs": []
    },
    {
      "cell_type": "code",
      "source": [
        "print(\"Fuzzy Set:\", fuzzy_set)\n",
        "print(\"Core Set:\", core)\n",
        "print(\"Support Set:\", support)\n",
        "print(\"Crossover Points:\", crossover)"
      ],
      "metadata": {
        "colab": {
          "base_uri": "https://localhost:8080/"
        },
        "id": "KWUHPtmIrrsA",
        "outputId": "0a4ad6c4-48e8-4e13-c09a-1c0cac161b7e"
      },
      "execution_count": 4,
      "outputs": [
        {
          "output_type": "stream",
          "name": "stdout",
          "text": [
            "Fuzzy Set: {'A': 1.0, 'B': 0.7, 'C': 0.5, 'D': 0.0, 'E': 1.0}\n",
            "Core Set: {'A': 1.0, 'E': 1.0}\n",
            "Support Set: {'B': 0.7, 'C': 0.5}\n",
            "Crossover Points: {'A': 1.0, 'D': 0.0, 'E': 1.0}\n"
          ]
        }
      ]
    }
  ]
}