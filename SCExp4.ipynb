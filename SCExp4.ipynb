{
  "nbformat": 4,
  "nbformat_minor": 0,
  "metadata": {
    "colab": {
      "provenance": [],
      "authorship_tag": "ABX9TyNx1VlB4evS5ySr76N5pjew",
      "include_colab_link": true
    },
    "kernelspec": {
      "name": "python3",
      "display_name": "Python 3"
    },
    "language_info": {
      "name": "python"
    }
  },
  "cells": [
    {
      "cell_type": "markdown",
      "metadata": {
        "id": "view-in-github",
        "colab_type": "text"
      },
      "source": [
        "<a href=\"https://colab.research.google.com/github/heisenberg183/SoftComputing/blob/main/SCExp4.ipynb\" target=\"_parent\"><img src=\"https://colab.research.google.com/assets/colab-badge.svg\" alt=\"Open In Colab\"/></a>"
      ]
    },
    {
      "cell_type": "code",
      "execution_count": 1,
      "metadata": {
        "colab": {
          "base_uri": "https://localhost:8080/"
        },
        "id": "yZSOv_TG8n05",
        "outputId": "e28e879d-edd6-41dc-b901-04727731b8c5"
      },
      "outputs": [
        {
          "output_type": "stream",
          "name": "stdout",
          "text": [
            "Set 1:\n",
            "Set Elements: {1, 2, 3, 4}\n",
            "\n",
            "Set 2:\n",
            "Set Elements: {3, 4, 5, 6}\n",
            "\n",
            "Union Set:\n",
            "Set Elements: {1, 2, 3, 4, 5, 6}\n",
            "\n",
            "Intersection Set:\n",
            "Set Elements: {3, 4}\n",
            "\n",
            "Difference Set (Set1 - Set2):\n",
            "Set Elements: {1, 2}\n",
            "\n",
            "Complement Set (of Set1 in Universe Set):\n",
            "Set Elements: {5, 6}\n",
            "\n",
            "Cartesian Product Set:\n",
            "Set Elements: {(2, 4), (3, 4), (1, 5), (4, 3), (4, 6), (1, 6), (2, 5), (1, 3), (3, 5), (4, 4), (1, 4), (2, 3), (4, 5), (3, 3), (2, 6), (3, 6)}\n"
          ]
        }
      ],
      "source": [
        "class ClassicalSet:\n",
        "    def __init__(self, elements):\n",
        "        self.elements = set(elements)\n",
        "\n",
        "    def union(self, other_set):\n",
        "        return ClassicalSet(self.elements.union(other_set.elements))\n",
        "\n",
        "    def intersection(self, other_set):\n",
        "        return ClassicalSet(self.elements.intersection(other_set.elements))\n",
        "\n",
        "    def difference(self, other_set):\n",
        "        return ClassicalSet(self.elements.difference(other_set.elements))\n",
        "\n",
        "    def complement(self, universe_set):\n",
        "        return ClassicalSet(universe_set.elements.difference(self.elements))\n",
        "\n",
        "    def cartesian_product(self, other_set):\n",
        "        cartesian_product = set()\n",
        "        for element1 in self.elements:\n",
        "            for element2 in other_set.elements:\n",
        "                cartesian_product.add((element1, element2))\n",
        "        return ClassicalSet(cartesian_product)\n",
        "\n",
        "    def display(self):\n",
        "        print(\"Set Elements:\", self.elements)\n",
        "\n",
        "# Example sets\n",
        "set1 = ClassicalSet([1, 2, 3, 4])\n",
        "set2 = ClassicalSet([3, 4, 5, 6])\n",
        "universe_set = ClassicalSet([1, 2, 3, 4, 5, 6])\n",
        "\n",
        "# Perform operations\n",
        "union_set = set1.union(set2)\n",
        "intersection_set = set1.intersection(set2)\n",
        "difference_set = set1.difference(set2)\n",
        "complement_set = set1.complement(universe_set)\n",
        "cartesian_product_set = set1.cartesian_product(set2)\n",
        "\n",
        "# Display results\n",
        "print(\"Set 1:\")\n",
        "set1.display()\n",
        "print(\"\\nSet 2:\")\n",
        "set2.display()\n",
        "print(\"\\nUnion Set:\")\n",
        "union_set.display()\n",
        "print(\"\\nIntersection Set:\")\n",
        "intersection_set.display()\n",
        "print(\"\\nDifference Set (Set1 - Set2):\")\n",
        "difference_set.display()\n",
        "print(\"\\nComplement Set (of Set1 in Universe Set):\")\n",
        "complement_set.display()\n",
        "print(\"\\nCartesian Product Set:\")\n",
        "cartesian_product_set.display()\n"
      ]
    }
  ]
}