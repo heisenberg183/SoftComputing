{
  "nbformat": 4,
  "nbformat_minor": 0,
  "metadata": {
    "colab": {
      "provenance": [],
      "authorship_tag": "ABX9TyMmHmJfLy/A51WKzwbv34G6",
      "include_colab_link": true
    },
    "kernelspec": {
      "name": "python3",
      "display_name": "Python 3"
    },
    "language_info": {
      "name": "python"
    }
  },
  "cells": [
    {
      "cell_type": "markdown",
      "metadata": {
        "id": "view-in-github",
        "colab_type": "text"
      },
      "source": [
        "<a href=\"https://colab.research.google.com/github/heisenberg183/SoftComputing/blob/main/SCExp2.ipynb\" target=\"_parent\"><img src=\"https://colab.research.google.com/assets/colab-badge.svg\" alt=\"Open In Colab\"/></a>"
      ]
    },
    {
      "cell_type": "code",
      "execution_count": 1,
      "metadata": {
        "id": "m7oZ0luCpgZ-"
      },
      "outputs": [],
      "source": [
        "def fuzzy_complement(set1):\n",
        "    # Complement of a fuzzy set\n",
        "    complement_set = {}\n",
        "    for key, value in set1.items():\n",
        "        complement_set[key] = 1 - value\n",
        "    return complement_set"
      ]
    },
    {
      "cell_type": "code",
      "source": [
        "def fuzzy_difference(set1, set2):\n",
        "    # Difference of fuzzy sets\n",
        "    difference_set = {}\n",
        "    for key in set1.keys() | set2.keys():\n",
        "        diff_value = set1.get(key, 0) - set2.get(key, 0)\n",
        "        difference_set[key] = max(0, diff_value)  # Take max with 0 to ensure non-negative values\n",
        "    return difference_set"
      ],
      "metadata": {
        "id": "vKYEv9hxqyHa"
      },
      "execution_count": 2,
      "outputs": []
    },
    {
      "cell_type": "code",
      "source": [
        "# Example fuzzy sets\n",
        "set1 = {'A': 0.7, 'B': 0.5, 'C': 0.9}\n",
        "set2 = {'B': 0.6, 'C': 0.8, 'D': 0.4}"
      ],
      "metadata": {
        "id": "B117ZLLwqyLB"
      },
      "execution_count": 3,
      "outputs": []
    },
    {
      "cell_type": "code",
      "source": [
        "# Compute complement and difference\n",
        "complement_result = fuzzy_complement(set1)\n",
        "difference_result = fuzzy_difference(set1, set2)"
      ],
      "metadata": {
        "id": "VgI0RihTqyNs"
      },
      "execution_count": 4,
      "outputs": []
    },
    {
      "cell_type": "code",
      "source": [
        "print(\"Fuzzy Set 1:\", set1)\n",
        "print(\"Complement of Set 1:\", complement_result)\n",
        "print(\"Difference (Set1 - Set2):\", difference_result)"
      ],
      "metadata": {
        "colab": {
          "base_uri": "https://localhost:8080/"
        },
        "id": "7rg65GMnqyQD",
        "outputId": "6016bfec-4451-4284-8216-3ac0a8213105"
      },
      "execution_count": 5,
      "outputs": [
        {
          "output_type": "stream",
          "name": "stdout",
          "text": [
            "Fuzzy Set 1: {'A': 0.7, 'B': 0.5, 'C': 0.9}\n",
            "Complement of Set 1: {'A': 0.30000000000000004, 'B': 0.5, 'C': 0.09999999999999998}\n",
            "Difference (Set1 - Set2): {'D': 0, 'B': 0, 'A': 0.7, 'C': 0.09999999999999998}\n"
          ]
        }
      ]
    }
  ]
}