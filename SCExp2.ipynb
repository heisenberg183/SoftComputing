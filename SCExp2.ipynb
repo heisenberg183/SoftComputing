{
  "nbformat": 4,
  "nbformat_minor": 0,
  "metadata": {
    "colab": {
      "provenance": [],
      "authorship_tag": "ABX9TyP/ZpzAFN0qemwjFLKjTZKw",
      "include_colab_link": true
    },
    "kernelspec": {
      "name": "python3",
      "display_name": "Python 3"
    },
    "language_info": {
      "name": "python"
    }
  },
  "cells": [
    {
      "cell_type": "markdown",
      "metadata": {
        "id": "view-in-github",
        "colab_type": "text"
      },
      "source": [
        "<a href=\"https://colab.research.google.com/github/heisenberg183/SoftComputing/blob/main/SCExp2.ipynb\" target=\"_parent\"><img src=\"https://colab.research.google.com/assets/colab-badge.svg\" alt=\"Open In Colab\"/></a>"
      ]
    },
    {
      "cell_type": "code",
      "execution_count": 1,
      "metadata": {
        "id": "m7oZ0luCpgZ-",
        "colab": {
          "base_uri": "https://localhost:8080/"
        },
        "outputId": "0f12484f-d73a-44a6-81ef-f5efb76cd40f"
      },
      "outputs": [
        {
          "output_type": "stream",
          "name": "stdout",
          "text": [
            "Input\t\tPredicted Output\n",
            "[0 0]\t\t0\n",
            "[0 1]\t\t0\n",
            "[1 0]\t\t0\n",
            "[1 1]\t\t1\n"
          ]
        }
      ],
      "source": [
        "import numpy as np\n",
        "\n",
        "class Perceptron:\n",
        "    def __init__(self, input_size, learning_rate=0.1, epochs=100):\n",
        "        self.weights = np.zeros(input_size + 1)\n",
        "        self.learning_rate = learning_rate\n",
        "        self.epochs = epochs\n",
        "\n",
        "    def predict(self, inputs):\n",
        "        summation = np.dot(inputs, self.weights[1:]) + self.weights[0]\n",
        "        return 1 if summation > 0 else 0\n",
        "\n",
        "    def train(self, training_inputs, labels):\n",
        "        for _ in range(self.epochs):\n",
        "            for inputs, label in zip(training_inputs, labels):\n",
        "                prediction = self.predict(inputs)\n",
        "                self.weights[1:] += self.learning_rate * (label - prediction) * inputs\n",
        "                self.weights[0] += self.learning_rate * (label - prediction)\n",
        "\n",
        "# Training data for AND gate\n",
        "training_inputs = np.array([[0, 0], [0, 1], [1, 0], [1, 1]])\n",
        "labels = np.array([0, 0, 0, 1])\n",
        "\n",
        "# Create a Perceptron model for AND gate\n",
        "perceptron = Perceptron(input_size=2)\n",
        "\n",
        "# Train the model\n",
        "perceptron.train(training_inputs, labels)\n",
        "\n",
        "# Test the trained model\n",
        "test_inputs = np.array([[0, 0], [0, 1], [1, 0], [1, 1]])\n",
        "print(\"Input\\t\\tPredicted Output\")\n",
        "for inputs in test_inputs:\n",
        "    prediction = perceptron.predict(inputs)\n",
        "    print(f\"{inputs}\\t\\t{prediction}\")\n"
      ]
    }
  ]
}