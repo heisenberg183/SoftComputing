{
  "nbformat": 4,
  "nbformat_minor": 0,
  "metadata": {
    "colab": {
      "provenance": [],
      "authorship_tag": "ABX9TyPg4KI02jt7Yut5lc9Iy5pt",
      "include_colab_link": true
    },
    "kernelspec": {
      "name": "python3",
      "display_name": "Python 3"
    },
    "language_info": {
      "name": "python"
    }
  },
  "cells": [
    {
      "cell_type": "markdown",
      "metadata": {
        "id": "view-in-github",
        "colab_type": "text"
      },
      "source": [
        "<a href=\"https://colab.research.google.com/github/heisenberg183/SoftComputing/blob/main/SCExp5.ipynb\" target=\"_parent\"><img src=\"https://colab.research.google.com/assets/colab-badge.svg\" alt=\"Open In Colab\"/></a>"
      ]
    },
    {
      "cell_type": "code",
      "execution_count": null,
      "metadata": {
        "colab": {
          "base_uri": "https://localhost:8080/"
        },
        "id": "gyhP6GWy5zG4",
        "outputId": "c0655ae3-7b85-4aca-d28e-ba02bb31a563"
      },
      "outputs": [
        {
          "output_type": "stream",
          "name": "stdout",
          "text": [
            "Law of Idempotence:\n",
            "A ∪ A = {1, 2, 3, 4}\n",
            "A ∩ A = {1, 2, 3, 4}\n",
            "\n",
            "Law of Commutativity:\n",
            "A ∪ B = {1, 2, 3, 4, 5, 6}\n",
            "B ∪ A = {1, 2, 3, 4, 5, 6}\n",
            "A ∩ B = {3, 4}\n",
            "B ∩ A = {3, 4}\n",
            "\n",
            "Law of Associativity:\n",
            "(A ∪ B) ∪ C = {1, 2, 3, 4, 5, 6}\n",
            "A ∪ (B ∪ C) = {1, 2, 3, 4, 5, 6}\n",
            "(A ∩ B) ∩ C = {3, 4}\n",
            "A ∩ (B ∩ C) = {3, 4}\n",
            "\n",
            "Law of Distributivity:\n",
            "A ∪ (B ∩ C) = {1, 2, 3, 4, 5, 6}\n",
            "(A ∪ B) ∩ (A ∪ C) = {1, 2, 3, 4, 5, 6}\n",
            "A ∩ (B ∪ C) = {3, 4}\n",
            "(A ∩ B) ∪ (A ∩ C) = {3, 4}\n",
            "\n",
            "Law of Absorption:\n",
            "A ∪ (A ∩ B) = {1, 2, 3, 4}\n",
            "A ∩ (A ∪ B) = {1, 2, 3, 4}\n"
          ]
        }
      ],
      "source": [
        "class ClassicalSet:\n",
        "    def __init__(self, elements):\n",
        "        self.elements = set(elements)\n",
        "\n",
        "    def union(self, other_set):\n",
        "        return ClassicalSet(self.elements.union(other_set.elements))\n",
        "\n",
        "    def intersection(self, other_set):\n",
        "        return ClassicalSet(self.elements.intersection(other_set.elements))\n",
        "\n",
        "    def difference(self, other_set):\n",
        "        return ClassicalSet(self.elements.difference(other_set.elements))\n",
        "\n",
        "    def complement(self, universe_set):\n",
        "        return ClassicalSet(universe_set.elements.difference(self.elements))\n",
        "\n",
        "    def cartesian_product(self, other_set):\n",
        "        cartesian_product = set()\n",
        "        for element1 in self.elements:\n",
        "            for element2 in other_set.elements:\n",
        "                cartesian_product.add((element1, element2))\n",
        "        return ClassicalSet(cartesian_product)\n",
        "\n",
        "    def display(self):\n",
        "        print(\"Set Elements:\", self.elements)\n",
        "\n",
        "# Example sets\n",
        "set1 = ClassicalSet([1, 2, 3, 4])\n",
        "set2 = ClassicalSet([3, 4, 5, 6])\n",
        "universe_set = ClassicalSet([1, 2, 3, 4, 5, 6])\n",
        "\n",
        "# Law of Idempotence: A ∪ A = A, A ∩ A = A\n",
        "print(\"Law of Idempotence:\")\n",
        "print(\"A ∪ A =\", set1.union(set1).elements)\n",
        "print(\"A ∩ A =\", set1.intersection(set1).elements)\n",
        "\n",
        "# Law of Commutativity: A ∪ B = B ∪ A, A ∩ B = B ∩ A\n",
        "print(\"\\nLaw of Commutativity:\")\n",
        "print(\"A ∪ B =\", set1.union(set2).elements)\n",
        "print(\"B ∪ A =\", set2.union(set1).elements)\n",
        "print(\"A ∩ B =\", set1.intersection(set2).elements)\n",
        "print(\"B ∩ A =\", set2.intersection(set1).elements)\n",
        "\n",
        "# Law of Associativity: (A ∪ B) ∪ C = A ∪ (B ∪ C), (A ∩ B) ∩ C = A ∩ (B ∩ C)\n",
        "print(\"\\nLaw of Associativity:\")\n",
        "print(\"(A ∪ B) ∪ C =\", set1.union(set2).union(set2).elements)\n",
        "print(\"A ∪ (B ∪ C) =\", set1.union(set2.union(set2)).elements)\n",
        "print(\"(A ∩ B) ∩ C =\", set1.intersection(set2).intersection(set2).elements)\n",
        "print(\"A ∩ (B ∩ C) =\", set1.intersection(set2.intersection(set2)).elements)\n",
        "\n",
        "# Law of Distributivity: A ∪ (B ∩ C) = (A ∪ B) ∩ (A ∪ C), A ∩ (B ∪ C) = (A ∩ B) ∪ (A ∩ C)\n",
        "print(\"\\nLaw of Distributivity:\")\n",
        "print(\"A ∪ (B ∩ C) =\", set1.union(set2.intersection(set2)).elements)\n",
        "print(\"(A ∪ B) ∩ (A ∪ C) =\", set1.union(set2).intersection(set1.union(set2)).elements)\n",
        "print(\"A ∩ (B ∪ C) =\", set1.intersection(set2.union(set2)).elements)\n",
        "print(\"(A ∩ B) ∪ (A ∩ C) =\", set1.intersection(set2).union(set1.intersection(set2)).elements)\n",
        "\n",
        "# Law of Absorption: A ∪ (A ∩ B) = A, A ∩ (A ∪ B) = A\n",
        "print(\"\\nLaw of Absorption:\")\n",
        "print(\"A ∪ (A ∩ B) =\", set1.union(set1.intersection(set2)).elements)\n",
        "print(\"A ∩ (A ∪ B) =\", set1.intersection(set1.union(set2)).elements)\n"
      ]
    }
  ]
}