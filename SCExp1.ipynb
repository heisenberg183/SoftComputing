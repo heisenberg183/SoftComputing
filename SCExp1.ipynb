{
  "nbformat": 4,
  "nbformat_minor": 0,
  "metadata": {
    "colab": {
      "provenance": [],
      "authorship_tag": "ABX9TyOr8Dmdus6Nkc5bz6M4Yqwy",
      "include_colab_link": true
    },
    "kernelspec": {
      "name": "python3",
      "display_name": "Python 3"
    },
    "language_info": {
      "name": "python"
    }
  },
  "cells": [
    {
      "cell_type": "markdown",
      "metadata": {
        "id": "view-in-github",
        "colab_type": "text"
      },
      "source": [
        "<a href=\"https://colab.research.google.com/github/heisenberg183/SoftComputing/blob/main/SCExp1.ipynb\" target=\"_parent\"><img src=\"https://colab.research.google.com/assets/colab-badge.svg\" alt=\"Open In Colab\"/></a>"
      ]
    },
    {
      "cell_type": "code",
      "execution_count": null,
      "metadata": {
        "id": "RJWOWKvCo-AB"
      },
      "outputs": [],
      "source": [
        "def fuzzy_union(set1, set2):\n",
        "    # Union of fuzzy sets\n",
        "    union_set = {}\n",
        "    for key in set1.keys() | set2.keys():\n",
        "        union_set[key] = max(set1.get(key, 0), set2.get(key, 0))\n",
        "    return union_set"
      ]
    },
    {
      "cell_type": "code",
      "source": [
        "def fuzzy_intersection(set1, set2):\n",
        "    # Intersection of fuzzy sets\n",
        "    intersection_set = {}\n",
        "    for key in set1.keys() & set2.keys():\n",
        "        intersection_set[key] = min(set1[key], set2[key])\n",
        "    return intersection_set"
      ],
      "metadata": {
        "id": "rognu-BupQ2G"
      },
      "execution_count": null,
      "outputs": []
    },
    {
      "cell_type": "code",
      "source": [
        "# Example fuzzy sets\n",
        "set1 = {'A': 0.7, 'B': 0.5, 'C': 0.9}\n",
        "set2 = {'B': 0.6, 'C': 0.8, 'D': 0.4}"
      ],
      "metadata": {
        "id": "L-A6dhhcpRBi"
      },
      "execution_count": null,
      "outputs": []
    },
    {
      "cell_type": "code",
      "source": [
        "# Compute union and intersection\n",
        "union_result = fuzzy_union(set1, set2)\n",
        "intersection_result = fuzzy_intersection(set1, set2)"
      ],
      "metadata": {
        "id": "k0YNSlMnpRGR"
      },
      "execution_count": null,
      "outputs": []
    },
    {
      "cell_type": "code",
      "source": [
        "print(\"Fuzzy Set 1:\", set1)\n",
        "print(\"Fuzzy Set 2:\", set2)\n",
        "print(\"Union:\", union_result)\n",
        "print(\"Intersection:\", intersection_result)"
      ],
      "metadata": {
        "colab": {
          "base_uri": "https://localhost:8080/"
        },
        "id": "8HqayarnpX-b",
        "outputId": "d28e6bb1-4f89-452f-cb6c-fc1a705f3f78"
      },
      "execution_count": null,
      "outputs": [
        {
          "output_type": "stream",
          "name": "stdout",
          "text": [
            "Fuzzy Set 1: {'A': 0.7, 'B': 0.5, 'C': 0.9}\n",
            "Fuzzy Set 2: {'B': 0.6, 'C': 0.8, 'D': 0.4}\n",
            "Union: {'C': 0.9, 'A': 0.7, 'B': 0.6, 'D': 0.4}\n",
            "Intersection: {'C': 0.8, 'B': 0.5}\n"
          ]
        }
      ]
    }
  ]
}