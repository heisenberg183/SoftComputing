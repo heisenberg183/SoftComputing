{
  "nbformat": 4,
  "nbformat_minor": 0,
  "metadata": {
    "colab": {
      "provenance": [],
      "authorship_tag": "ABX9TyORxIQdHfziBR9wUz1/wcTL",
      "include_colab_link": true
    },
    "kernelspec": {
      "name": "python3",
      "display_name": "Python 3"
    },
    "language_info": {
      "name": "python"
    }
  },
  "cells": [
    {
      "cell_type": "markdown",
      "metadata": {
        "id": "view-in-github",
        "colab_type": "text"
      },
      "source": [
        "<a href=\"https://colab.research.google.com/github/heisenberg183/SoftComputing/blob/main/SCExp6.ipynb\" target=\"_parent\"><img src=\"https://colab.research.google.com/assets/colab-badge.svg\" alt=\"Open In Colab\"/></a>"
      ]
    },
    {
      "cell_type": "code",
      "source": [
        "def cartesian_product(set1, set2):\n",
        "    # Cartesian product of two fuzzy sets\n",
        "    fuzzy_relation = {}\n",
        "    for key1, value1 in set1.items():\n",
        "        for key2, value2 in set2.items():\n",
        "            fuzzy_relation[(key1, key2)] = min(value1, value2)  # Minimum membership value\n",
        "    return fuzzy_relation\n",
        "\n",
        "# Example fuzzy sets\n",
        "set1 = {'A': 0.7, 'B': 0.5, 'C': 0.9}\n",
        "set2 = {'X': 0.6, 'Y': 0.8, 'Z': 0.4}\n",
        "\n",
        "# Compute fuzzy relation by Cartesian product\n",
        "fuzzy_rel = cartesian_product(set1, set2)\n",
        "\n",
        "print(\"Fuzzy Set 1:\", set1)\n",
        "print(\"Fuzzy Set 2:\", set2)\n",
        "print(\"Fuzzy Relation (Cartesian Product):\", fuzzy_rel)\n"
      ],
      "metadata": {
        "colab": {
          "base_uri": "https://localhost:8080/"
        },
        "id": "dOjXKJwhsYo0",
        "outputId": "aa0665d7-0f64-43a1-f0c6-e9edd09dcf5c"
      },
      "execution_count": null,
      "outputs": [
        {
          "output_type": "stream",
          "name": "stdout",
          "text": [
            "Fuzzy Set 1: {'A': 0.7, 'B': 0.5, 'C': 0.9}\n",
            "Fuzzy Set 2: {'X': 0.6, 'Y': 0.8, 'Z': 0.4}\n",
            "Fuzzy Relation (Cartesian Product): {('A', 'X'): 0.6, ('A', 'Y'): 0.7, ('A', 'Z'): 0.4, ('B', 'X'): 0.5, ('B', 'Y'): 0.5, ('B', 'Z'): 0.4, ('C', 'X'): 0.6, ('C', 'Y'): 0.8, ('C', 'Z'): 0.4}\n"
          ]
        }
      ]
    }
  ]
}