{
  "nbformat": 4,
  "nbformat_minor": 0,
  "metadata": {
    "colab": {
      "provenance": [],
      "authorship_tag": "ABX9TyObvzZ+VCMD1oXTiBGMcxm6",
      "include_colab_link": true
    },
    "kernelspec": {
      "name": "python3",
      "display_name": "Python 3"
    },
    "language_info": {
      "name": "python"
    }
  },
  "cells": [
    {
      "cell_type": "markdown",
      "metadata": {
        "id": "view-in-github",
        "colab_type": "text"
      },
      "source": [
        "<a href=\"https://colab.research.google.com/github/heisenberg183/SoftComputing/blob/main/SCExp9.ipynb\" target=\"_parent\"><img src=\"https://colab.research.google.com/assets/colab-badge.svg\" alt=\"Open In Colab\"/></a>"
      ]
    },
    {
      "cell_type": "code",
      "execution_count": 1,
      "metadata": {
        "colab": {
          "base_uri": "https://localhost:8080/"
        },
        "id": "mXOmdX6o7Jx6",
        "outputId": "b12179e6-140c-4338-d755-6ec9860266c5"
      },
      "outputs": [
        {
          "output_type": "stream",
          "name": "stdout",
          "text": [
            "Matrix 1:\n",
            "[[0.7 0.5]\n",
            " [0.4 0.8]]\n",
            "\n",
            "Matrix 2:\n",
            "[[0.6 0.9]\n",
            " [0.3 0.7]]\n",
            "\n",
            "Cartesian Product Matrix:\n",
            "[[0.6 0.7 0.5 0.5]\n",
            " [0.3 0.7 0.3 0.5]\n",
            " [0.4 0.4 0.6 0.8]\n",
            " [0.3 0.4 0.3 0.7]]\n",
            "\n",
            "Max-Min Composition Result:\n",
            "[0.7 0.7 0.8 0.7]\n"
          ]
        }
      ],
      "source": [
        "import numpy as np\n",
        "\n",
        "def cartesian_product(matrix1, matrix2):\n",
        "    # Cartesian product of two matrices\n",
        "    cartesian_matrix = np.zeros((matrix1.shape[0] * matrix2.shape[0], matrix1.shape[1] * matrix2.shape[1]))\n",
        "    for i in range(matrix1.shape[0]):\n",
        "        for j in range(matrix1.shape[1]):\n",
        "            for k in range(matrix2.shape[0]):\n",
        "                for l in range(matrix2.shape[1]):\n",
        "                    cartesian_matrix[i * matrix2.shape[0] + k, j * matrix2.shape[1] + l] = min(matrix1[i, j], matrix2[k, l])\n",
        "    return cartesian_matrix\n",
        "\n",
        "def max_min_composition(matrix):\n",
        "    # Max-min composition based on the matrix\n",
        "    composition_result = np.max(matrix, axis=1)\n",
        "    return composition_result\n",
        "\n",
        "# Example matrices\n",
        "matrix1 = np.array([[0.7, 0.5], [0.4, 0.8]])\n",
        "matrix2 = np.array([[0.6, 0.9], [0.3, 0.7]])\n",
        "\n",
        "# Perform Cartesian product of matrices\n",
        "cartesian_matrix = cartesian_product(matrix1, matrix2)\n",
        "\n",
        "# Perform max-min composition\n",
        "composition_result = max_min_composition(cartesian_matrix)\n",
        "\n",
        "print(\"Matrix 1:\")\n",
        "print(matrix1)\n",
        "print(\"\\nMatrix 2:\")\n",
        "print(matrix2)\n",
        "print(\"\\nCartesian Product Matrix:\")\n",
        "print(cartesian_matrix)\n",
        "print(\"\\nMax-Min Composition Result:\")\n",
        "print(composition_result)\n"
      ]
    }
  ]
}